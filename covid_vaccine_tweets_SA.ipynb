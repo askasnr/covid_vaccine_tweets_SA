{
 "cells": [
  {
   "cell_type": "markdown",
   "id": "86b35084-fef2-4ad1-81fc-17b070b65ba0",
   "metadata": {},
   "source": [
    "* Import Necessary Libraries"
   ]
  },
  {
   "cell_type": "code",
   "execution_count": 41,
   "id": "9e500c16-3462-4505-ae36-1a81cd9e90e1",
   "metadata": {},
   "outputs": [],
   "source": [
    "# necessary libraries\n",
    "import pandas as pd\n",
    "import numpy as np\n",
    "import seaborn as sns\n",
    "import matplotlib.pyplot as plt\n",
    "import neattext.functions as nfx\n",
    "import itertools\n",
    "import collections\n",
    "import nltk\n",
    "from nltk import bigrams, trigrams \n",
    "from nltk.corpus import stopwords\n",
    "stopwords = nltk.corpus.stopwords.words('english')\n",
    "\n",
    "# ML packages\n",
    "from sklearn.feature_extraction.text import TfidfVectorizer\n",
    "from sklearn.feature_extraction.text import CountVectorizer\n",
    "from sklearn.feature_extraction.text import TfidfTransformer\n",
    "from sklearn.model_selection import train_test_split\n",
    "from sklearn.naive_bayes import MultinomialNB\n",
    "from sklearn.linear_model import LogisticRegression\n",
    "from sklearn.svm import LinearSVC\n",
    "from sklearn.ensemble import RandomForestClassifier\n",
    "from sklearn.model_selection import GridSearchCV\n",
    "from sklearn.pipeline import Pipeline\n",
    "from sklearn.metrics import accuracy_score, classification_report, confusion_matrix\n",
    "from sklearn.metrics import precision_score\n",
    "from sklearn.metrics import f1_score, recall_score"
   ]
  },
  {
   "cell_type": "code",
   "execution_count": 42,
   "id": "ee6cb40c-851e-4423-be92-4f0202da3976",
   "metadata": {},
   "outputs": [],
   "source": [
    "# Load dataset\n",
    "df = pd.read_csv('data/vaccine_data.csv', encoding='latin-1')"
   ]
  },
  {
   "cell_type": "code",
   "execution_count": 43,
   "id": "e580b5dc-70eb-4bd5-b6d1-fd81c63cef13",
   "metadata": {},
   "outputs": [
    {
     "data": {
      "text/plain": [
       "positive    10519\n",
       "negative     2672\n",
       "Name: sentiment, dtype: int64"
      ]
     },
     "execution_count": 43,
     "metadata": {},
     "output_type": "execute_result"
    }
   ],
   "source": [
    "df['sentiment'].value_counts()"
   ]
  },
  {
   "cell_type": "code",
   "execution_count": null,
   "id": "dedc17cd-e0b7-4bc7-99fa-0138e60c6177",
   "metadata": {},
   "outputs": [],
   "source": []
  },
  {
   "cell_type": "markdown",
   "id": "88976131-4c79-4a53-94b5-30c474008ad4",
   "metadata": {},
   "source": [
    "##### Exploratory Data Analysis"
   ]
  },
  {
   "cell_type": "markdown",
   "id": "acc76598-0a71-46e0-80a6-231af0b7453e",
   "metadata": {},
   "source": [
    "* Text Length"
   ]
  },
  {
   "cell_type": "code",
   "execution_count": 44,
   "id": "7dd65442-ddd8-4012-bc78-76b665d003fa",
   "metadata": {},
   "outputs": [
    {
     "data": {
      "text/plain": [
       "Text(0.5, 1.0, 'Tweets length distribution')"
      ]
     },
     "execution_count": 44,
     "metadata": {},
     "output_type": "execute_result"
    },
    {
     "data": {
      "image/png": "[encoded data removed]",
      "text/plain": [
       "<Figure size 576x360 with 1 Axes>"
      ]
     },
     "metadata": {
      "needs_background": "light"
     },
     "output_type": "display_data"
    }
   ],
   "source": [
    "df['Tweets_length'] = df['text'].str.len()\n",
    "plt.figure(figsize=(8,5))\n",
    "sns.histplot(df['Tweets_length'],bins=50, alpha=0.8, linewidth=0.5,kde=True).set_title('Tweets length distribution')"
   ]
  },
  {
   "cell_type": "markdown",
   "id": "a03c13bc-bb99-4ad4-9cee-39fbee7c0446",
   "metadata": {},
   "source": [
    "* Word Counts"
   ]
  },
  {
   "cell_type": "code",
   "execution_count": 45,
   "id": "cffa1a3b-21d6-4ddf-b43e-b31e526d7dc7",
   "metadata": {},
   "outputs": [
    {
     "data": {
      "text/plain": [
       "<AxesSubplot:ylabel='Frequency'>"
      ]
     },
     "execution_count": 45,
     "metadata": {},
     "output_type": "execute_result"
    },
    {
     "data": {
      "image/png": "[encoded data removed]",
      "text/plain": [
       "<Figure size 576x288 with 1 Axes>"
      ]
     },
     "metadata": {
      "needs_background": "light"
     },
     "output_type": "display_data"
    }
   ],
   "source": [
    "df['word_counts'] = df['text'].apply(lambda x: len(str(x).split()))\n",
    "df['word_counts'].plot.hist(bins=25, figsize=(8,4), edgecolor='k')"
   ]
  },
  {
   "cell_type": "markdown",
   "id": "d4ed86fe-e6d6-4c0d-b3d3-cd4521696903",
   "metadata": {},
   "source": [
    "N-Gram Representations"
   ]
  },
  {
   "cell_type": "code",
   "execution_count": 46,
   "id": "389b51bd-9d1f-4a50-a319-4299f893093b",
   "metadata": {},
   "outputs": [],
   "source": [
    "# Remove stopwords and some keywords\n",
    "stopwords.append('amp')\n",
    "#stopwords.append('people')\n",
    "#stopwords.append('minister')\n",
    "stopwords.append('https')\n",
    "#stopwords.append('dr')\n",
    "stopwords.append('coronavirus')\n",
    "stopwords.append('covid19vaccine')\n",
    "stopwords.append('covidvaccine')\n",
    "stopwords.append('covid19')\n",
    "stopwords.append('covid')\n",
    "stopwords.append('day')\n",
    "stopwords.append('today')\n",
    "stopwords.append('india')\n",
    "stopwords.append('say')\n",
    "stopwords.append('time')\n",
    "stopwords.append('president')\n",
    "stopwords.append('us')\n",
    "stopwords.append('got')"
   ]
  },
  {
   "cell_type": "code",
   "execution_count": 47,
   "id": "bdb64f57-091b-49ce-8ce1-1504798036ec",
   "metadata": {},
   "outputs": [
    {
     "data": {
      "text/html": [
       "<div>\n",
       "<style scoped>\n",
       "    .dataframe tbody tr th:only-of-type {\n",
       "        vertical-align: middle;\n",
       "    }\n",
       "\n",
       "    .dataframe tbody tr th {\n",
       "        vertical-align: top;\n",
       "    }\n",
       "\n",
       "    .dataframe thead th {\n",
       "        text-align: right;\n",
       "    }\n",
       "</style>\n",
       "<table border=\"1\" class=\"dataframe\">\n",
       "  <thead>\n",
       "    <tr style=\"text-align: right;\">\n",
       "      <th></th>\n",
       "      <th>unigram</th>\n",
       "      <th>count</th>\n",
       "      <th>bigram</th>\n",
       "      <th>count</th>\n",
       "      <th>trigram</th>\n",
       "      <th>count</th>\n",
       "    </tr>\n",
       "  </thead>\n",
       "  <tbody>\n",
       "    <tr>\n",
       "      <th>0</th>\n",
       "      <td>vaccine</td>\n",
       "      <td>3398</td>\n",
       "      <td>(first, dose)</td>\n",
       "      <td>243</td>\n",
       "      <td>(received, first, dose)</td>\n",
       "      <td>59</td>\n",
       "    </tr>\n",
       "    <tr>\n",
       "      <th>1</th>\n",
       "      <td>get</td>\n",
       "      <td>1107</td>\n",
       "      <td>(side, effects)</td>\n",
       "      <td>198</td>\n",
       "      <td>(first, dose, vaccine)</td>\n",
       "      <td>46</td>\n",
       "    </tr>\n",
       "    <tr>\n",
       "      <th>2</th>\n",
       "      <td>first</td>\n",
       "      <td>1096</td>\n",
       "      <td>(get, vaccine)</td>\n",
       "      <td>162</td>\n",
       "      <td>(vaccine, immunity, duration)</td>\n",
       "      <td>27</td>\n",
       "    </tr>\n",
       "    <tr>\n",
       "      <th>3</th>\n",
       "      <td>vaccination</td>\n",
       "      <td>958</td>\n",
       "      <td>(vaccination, drive)</td>\n",
       "      <td>138</td>\n",
       "      <td>(vaccine, side, effects)</td>\n",
       "      <td>26</td>\n",
       "    </tr>\n",
       "    <tr>\n",
       "      <th>4</th>\n",
       "      <td>vaccines</td>\n",
       "      <td>770</td>\n",
       "      <td>(second, dose)</td>\n",
       "      <td>133</td>\n",
       "      <td>(moderna, pfizer, vaccines)</td>\n",
       "      <td>22</td>\n",
       "    </tr>\n",
       "    <tr>\n",
       "      <th>5</th>\n",
       "      <td>dose</td>\n",
       "      <td>729</td>\n",
       "      <td>(moderna, vaccine)</td>\n",
       "      <td>129</td>\n",
       "      <td>(largest, vaccination, drive)</td>\n",
       "      <td>22</td>\n",
       "    </tr>\n",
       "    <tr>\n",
       "      <th>6</th>\n",
       "      <td>health</td>\n",
       "      <td>639</td>\n",
       "      <td>(received, first)</td>\n",
       "      <td>117</td>\n",
       "      <td>(worlds, largest, vaccination)</td>\n",
       "      <td>22</td>\n",
       "    </tr>\n",
       "    <tr>\n",
       "      <th>7</th>\n",
       "      <td>people</td>\n",
       "      <td>632</td>\n",
       "      <td>(get, vaccinated)</td>\n",
       "      <td>106</td>\n",
       "      <td>(dose, moderna, vaccine)</td>\n",
       "      <td>21</td>\n",
       "    </tr>\n",
       "    <tr>\n",
       "      <th>8</th>\n",
       "      <td>doses</td>\n",
       "      <td>612</td>\n",
       "      <td>(million, doses)</td>\n",
       "      <td>100</td>\n",
       "      <td>(first, consignment, covishield)</td>\n",
       "      <td>21</td>\n",
       "    </tr>\n",
       "    <tr>\n",
       "      <th>9</th>\n",
       "      <td>moderna</td>\n",
       "      <td>525</td>\n",
       "      <td>(2nd, dose)</td>\n",
       "      <td>97</td>\n",
       "      <td>(one, step, closer)</td>\n",
       "      <td>19</td>\n",
       "    </tr>\n",
       "    <tr>\n",
       "      <th>10</th>\n",
       "      <td>vaccinated</td>\n",
       "      <td>510</td>\n",
       "      <td>(healthcare, workers)</td>\n",
       "      <td>93</td>\n",
       "      <td>(received, second, dose)</td>\n",
       "      <td>18</td>\n",
       "    </tr>\n",
       "    <tr>\n",
       "      <th>11</th>\n",
       "      <td>getting</td>\n",
       "      <td>468</td>\n",
       "      <td>(dose, vaccine)</td>\n",
       "      <td>85</td>\n",
       "      <td>(first, batch, vaccine)</td>\n",
       "      <td>18</td>\n",
       "    </tr>\n",
       "    <tr>\n",
       "      <th>12</th>\n",
       "      <td>received</td>\n",
       "      <td>463</td>\n",
       "      <td>(pfizer, vaccine)</td>\n",
       "      <td>83</td>\n",
       "      <td>(received, 2nd, dose)</td>\n",
       "      <td>17</td>\n",
       "    </tr>\n",
       "    <tr>\n",
       "      <th>13</th>\n",
       "      <td>pfizer</td>\n",
       "      <td>443</td>\n",
       "      <td>(covishield, vaccine)</td>\n",
       "      <td>81</td>\n",
       "      <td>(health, care, workers)</td>\n",
       "      <td>17</td>\n",
       "    </tr>\n",
       "    <tr>\n",
       "      <th>14</th>\n",
       "      <td>new</td>\n",
       "      <td>404</td>\n",
       "      <td>(health, workers)</td>\n",
       "      <td>79</td>\n",
       "      <td>(virtual, town, hall)</td>\n",
       "      <td>17</td>\n",
       "    </tr>\n",
       "    <tr>\n",
       "      <th>15</th>\n",
       "      <td>one</td>\n",
       "      <td>404</td>\n",
       "      <td>(getting, vaccine)</td>\n",
       "      <td>73</td>\n",
       "      <td>(get, first, dose)</td>\n",
       "      <td>14</td>\n",
       "    </tr>\n",
       "    <tr>\n",
       "      <th>16</th>\n",
       "      <td>dr</td>\n",
       "      <td>399</td>\n",
       "      <td>(vaccine, rollout)</td>\n",
       "      <td>65</td>\n",
       "      <td>(second, dose, vaccine)</td>\n",
       "      <td>14</td>\n",
       "    </tr>\n",
       "    <tr>\n",
       "      <th>17</th>\n",
       "      <td>receive</td>\n",
       "      <td>336</td>\n",
       "      <td>(1st, dose)</td>\n",
       "      <td>64</td>\n",
       "      <td>(dose, pfizer, vaccine)</td>\n",
       "      <td>14</td>\n",
       "    </tr>\n",
       "    <tr>\n",
       "      <th>18</th>\n",
       "      <td>workers</td>\n",
       "      <td>316</td>\n",
       "      <td>(first, consignment)</td>\n",
       "      <td>64</td>\n",
       "      <td>(first, dose, pfizer)</td>\n",
       "      <td>14</td>\n",
       "    </tr>\n",
       "    <tr>\n",
       "      <th>19</th>\n",
       "      <td>astrazeneca</td>\n",
       "      <td>309</td>\n",
       "      <td>(astrazeneca, vaccine)</td>\n",
       "      <td>63</td>\n",
       "      <td>(first, dose, moderna)</td>\n",
       "      <td>14</td>\n",
       "    </tr>\n",
       "  </tbody>\n",
       "</table>\n",
       "</div>"
      ],
      "text/plain": [
       "        unigram  count                  bigram  count  \\\n",
       "0       vaccine   3398           (first, dose)    243   \n",
       "1           get   1107         (side, effects)    198   \n",
       "2         first   1096          (get, vaccine)    162   \n",
       "3   vaccination    958    (vaccination, drive)    138   \n",
       "4      vaccines    770          (second, dose)    133   \n",
       "5          dose    729      (moderna, vaccine)    129   \n",
       "6        health    639       (received, first)    117   \n",
       "7        people    632       (get, vaccinated)    106   \n",
       "8         doses    612        (million, doses)    100   \n",
       "9       moderna    525             (2nd, dose)     97   \n",
       "10   vaccinated    510   (healthcare, workers)     93   \n",
       "11      getting    468         (dose, vaccine)     85   \n",
       "12     received    463       (pfizer, vaccine)     83   \n",
       "13       pfizer    443   (covishield, vaccine)     81   \n",
       "14          new    404       (health, workers)     79   \n",
       "15          one    404      (getting, vaccine)     73   \n",
       "16           dr    399      (vaccine, rollout)     65   \n",
       "17      receive    336             (1st, dose)     64   \n",
       "18      workers    316    (first, consignment)     64   \n",
       "19  astrazeneca    309  (astrazeneca, vaccine)     63   \n",
       "\n",
       "                             trigram  count  \n",
       "0            (received, first, dose)     59  \n",
       "1             (first, dose, vaccine)     46  \n",
       "2      (vaccine, immunity, duration)     27  \n",
       "3           (vaccine, side, effects)     26  \n",
       "4        (moderna, pfizer, vaccines)     22  \n",
       "5      (largest, vaccination, drive)     22  \n",
       "6     (worlds, largest, vaccination)     22  \n",
       "7           (dose, moderna, vaccine)     21  \n",
       "8   (first, consignment, covishield)     21  \n",
       "9                (one, step, closer)     19  \n",
       "10          (received, second, dose)     18  \n",
       "11           (first, batch, vaccine)     18  \n",
       "12             (received, 2nd, dose)     17  \n",
       "13           (health, care, workers)     17  \n",
       "14             (virtual, town, hall)     17  \n",
       "15                (get, first, dose)     14  \n",
       "16           (second, dose, vaccine)     14  \n",
       "17           (dose, pfizer, vaccine)     14  \n",
       "18             (first, dose, pfizer)     14  \n",
       "19            (first, dose, moderna)     14  "
      ]
     },
     "execution_count": 47,
     "metadata": {},
     "output_type": "execute_result"
    }
   ],
   "source": [
    "words = [text.lower().split() for text in df['text']]\n",
    "\n",
    "# remove stopwords from all tweets \n",
    "text_nsw = [[w for w in tweet_words if not w in stopwords]\n",
    "                     for tweet_words in words]\n",
    "\n",
    "# flatten your list and create a counter to return the most commonly used words\n",
    "all_words_nsw = list(itertools.chain(*text_nsw))\n",
    "counts_nsw = collections.Counter(all_words_nsw)\n",
    "# dataframe for most common words\n",
    "unigram_df = pd.DataFrame(counts_nsw.most_common(20), columns=['unigram','count'])\n",
    "\n",
    "\n",
    "# Create list of lists containing bigrams in tweets\n",
    "terms_bigram = [list(bigrams(text)) for text in text_nsw]\n",
    "# Flatten list of bigrams in clean tweets\n",
    "bigrams = list(itertools.chain(*terms_bigram))\n",
    "# Create counter of words in clean bigrams\n",
    "bigram_counts = collections.Counter(bigrams)\n",
    "# create pandas dataframe\n",
    "bigram_df = pd.DataFrame(bigram_counts.most_common(20), columns=['bigram', 'count'])\n",
    "\n",
    "# Create list of lists containing trigrams in tweets\n",
    "terms_trigram = [list(trigrams(text)) for text in text_nsw]\n",
    "# Flatten list of trigrams in clean tweets\n",
    "trigrams = list(itertools.chain(*terms_trigram))\n",
    "# Create counter of words in clean trigrams\n",
    "trigram_counts = collections.Counter(trigrams)\n",
    "# create pandas dataframe\n",
    "trigram_df = pd.DataFrame(trigram_counts.most_common(20), columns=['trigram', 'count'])\n",
    "\n",
    "pd.concat([unigram_df,bigram_df,trigram_df], axis=1)"
   ]
  },
  {
   "cell_type": "code",
   "execution_count": null,
   "id": "75d114b5-613f-4e9d-b6e4-87d4c0005ba3",
   "metadata": {},
   "outputs": [],
   "source": []
  },
  {
   "cell_type": "markdown",
   "id": "fd30efea-0b88-404b-b684-552005a65411",
   "metadata": {},
   "source": [
    "#### Building Machine Learning Models"
   ]
  },
  {
   "cell_type": "markdown",
   "id": "c348e5f4-105f-4e10-8a2c-a92c8476e5e1",
   "metadata": {},
   "source": [
    "* Data Preprocessing"
   ]
  },
  {
   "cell_type": "code",
   "execution_count": 51,
   "id": "c8d5312a-b458-4251-9c81-8642cb583626",
   "metadata": {},
   "outputs": [],
   "source": [
    "# convert text to lowercase\n",
    "df = df.apply(lambda x: x.astype(str).str.lower())"
   ]
  },
  {
   "cell_type": "code",
   "execution_count": 54,
   "id": "0e3a0b63-6c2d-4d54-a3cd-226ed1a32d3c",
   "metadata": {},
   "outputs": [],
   "source": [
    "# remove stopwords and other irrelevant characters\n",
    "df['clean_text'] = df['text'].apply(nfx.remove_stopwords)\n",
    "df['clean_text'] = df['clean_text'].apply(nfx.remove_userhandles) \n",
    "df['clean_text'] = df['clean_text'].apply(nfx.remove_special_characters)\n",
    "df['clean_text'] = df['clean_text'].apply(nfx.remove_punctuations)\n",
    "df['clean_text'] = df['clean_text'].apply(nfx.remove_numbers)\n",
    "df['clean_text'] = df['clean_text'].apply(nfx.remove_hashtags)\n",
    "df['clean_text'] = df['clean_text'].apply(nfx.fix_contractions)"
   ]
  },
  {
   "cell_type": "code",
   "execution_count": 57,
   "id": "56166ee4-5bf5-47e3-b61e-d7db286f76cf",
   "metadata": {},
   "outputs": [
    {
     "data": {
      "text/html": [
       "<div>\n",
       "<style scoped>\n",
       "    .dataframe tbody tr th:only-of-type {\n",
       "        vertical-align: middle;\n",
       "    }\n",
       "\n",
       "    .dataframe tbody tr th {\n",
       "        vertical-align: top;\n",
       "    }\n",
       "\n",
       "    .dataframe thead th {\n",
       "        text-align: right;\n",
       "    }\n",
       "</style>\n",
       "<table border=\"1\" class=\"dataframe\">\n",
       "  <thead>\n",
       "    <tr style=\"text-align: right;\">\n",
       "      <th></th>\n",
       "      <th>text</th>\n",
       "      <th>sentiment</th>\n",
       "      <th>Tweets_length</th>\n",
       "      <th>word_counts</th>\n",
       "      <th>clean_text</th>\n",
       "    </tr>\n",
       "  </thead>\n",
       "  <tbody>\n",
       "    <tr>\n",
       "      <th>3230</th>\n",
       "      <td>israeli government says it will extend vaccine...</td>\n",
       "      <td>positive</td>\n",
       "      <td>113</td>\n",
       "      <td>19</td>\n",
       "      <td>israeli government says extend vaccine drive c...</td>\n",
       "    </tr>\n",
       "    <tr>\n",
       "      <th>4505</th>\n",
       "      <td>ecuador clinic busted for administering thousa...</td>\n",
       "      <td>negative</td>\n",
       "      <td>104</td>\n",
       "      <td>14</td>\n",
       "      <td>ecuador clinic busted administering thousands ...</td>\n",
       "    </tr>\n",
       "    <tr>\n",
       "      <th>12751</th>\n",
       "      <td>live usarmy gen gustave perna dr moncef slaoui...</td>\n",
       "      <td>positive</td>\n",
       "      <td>109</td>\n",
       "      <td>17</td>\n",
       "      <td>live usarmy gen gustave perna dr moncef slaoui...</td>\n",
       "    </tr>\n",
       "    <tr>\n",
       "      <th>4938</th>\n",
       "      <td>we have a realtime chat going for stlukeshealt...</td>\n",
       "      <td>positive</td>\n",
       "      <td>113</td>\n",
       "      <td>19</td>\n",
       "      <td>realtime chat going stlukeshealths covidvaccin...</td>\n",
       "    </tr>\n",
       "  </tbody>\n",
       "</table>\n",
       "</div>"
      ],
      "text/plain": [
       "                                                    text sentiment  \\\n",
       "3230   israeli government says it will extend vaccine...  positive   \n",
       "4505   ecuador clinic busted for administering thousa...  negative   \n",
       "12751  live usarmy gen gustave perna dr moncef slaoui...  positive   \n",
       "4938   we have a realtime chat going for stlukeshealt...  positive   \n",
       "\n",
       "      Tweets_length word_counts  \\\n",
       "3230            113          19   \n",
       "4505            104          14   \n",
       "12751           109          17   \n",
       "4938            113          19   \n",
       "\n",
       "                                              clean_text  \n",
       "3230   israeli government says extend vaccine drive c...  \n",
       "4505   ecuador clinic busted administering thousands ...  \n",
       "12751  live usarmy gen gustave perna dr moncef slaoui...  \n",
       "4938   realtime chat going stlukeshealths covidvaccin...  "
      ]
     },
     "execution_count": 57,
     "metadata": {},
     "output_type": "execute_result"
    }
   ],
   "source": [
    "df.sample(4)"
   ]
  },
  {
   "cell_type": "code",
   "execution_count": null,
   "id": "3d40a938-ec3a-43b5-83a6-cbc30ad639e0",
   "metadata": {},
   "outputs": [],
   "source": []
  },
  {
   "cell_type": "markdown",
   "id": "6f6157e8-475a-484b-b3c5-97f0da81cf91",
   "metadata": {},
   "source": [
    "* Features, Labels, Train Test Split, and Vectorization"
   ]
  },
  {
   "cell_type": "code",
   "execution_count": 58,
   "id": "1e5f993a-09eb-46f8-8e42-d02f00900994",
   "metadata": {},
   "outputs": [],
   "source": [
    "# Features and Labels\n",
    "X = df['clean_text']\n",
    "y = df['sentiment']"
   ]
  },
  {
   "cell_type": "code",
   "execution_count": 59,
   "id": "8e568846-4e5d-4807-a1b4-ee76e9ee9000",
   "metadata": {},
   "outputs": [],
   "source": [
    "# Train Test Split\n",
    "X_train, X_test, y_train, y_test = train_test_split(X, y, test_size=0.33, random_state=42, stratify=y)\n",
    "\n",
    "vectorizer = TfidfVectorizer(ngram_range=(1,2)) \n",
    "X_train_tfidf = vectorizer.fit_transform(X_train)"
   ]
  },
  {
   "cell_type": "code",
   "execution_count": null,
   "id": "4d789290-982e-45d2-aea7-304f967333d7",
   "metadata": {},
   "outputs": [],
   "source": []
  },
  {
   "cell_type": "markdown",
   "id": "88cce861-077a-4823-bcf7-6534d5a6dd43",
   "metadata": {},
   "source": [
    "* SVM Classifier"
   ]
  },
  {
   "cell_type": "code",
   "execution_count": 60,
   "id": "166d8216-f495-4623-832d-2772b38ea960",
   "metadata": {},
   "outputs": [
    {
     "name": "stdout",
     "output_type": "stream",
     "text": [
      "Accuracy: 0.8291\n",
      "Precision: 0.8097\n",
      "Recall: 0.8291\n",
      "F1: 0.8048\n"
     ]
    }
   ],
   "source": [
    "svm_clf = LinearSVC()\n",
    "# fit it to the vectorize training data\n",
    "svm_clf.fit(X_train_tfidf, y_train)\n",
    "\n",
    "# combine vectorization of train and test sets into one pipeline\n",
    "svm_clf = Pipeline([('tfidf', TfidfVectorizer(ngram_range=(1,2))),('svm_clf', LinearSVC())])\n",
    "# fit the original train and test sets data\n",
    "svm_clf.fit(X_train, y_train)\n",
    "\n",
    "# test classifier and display result\n",
    "svm_pred = svm_clf.predict(X_test)\n",
    "\n",
    "# Evaluation Metrics\n",
    "# 'weighted' takes care of inbalance labels\n",
    "print('Accuracy: {:.4f}'.format(accuracy_score(y_test, svm_pred)))\n",
    "print('Precision: {:.4f}'.format(precision_score(y_test, svm_pred, average='weighted')))\n",
    "print('Recall: {:.4f}'.format(recall_score(y_test, svm_pred, average='weighted')))\n",
    "print('F1: {:.4f}'.format(f1_score(y_test, svm_pred, average='weighted')))"
   ]
  },
  {
   "cell_type": "code",
   "execution_count": 61,
   "id": "0ceb2639-7010-4e3a-9514-1d3627efc210",
   "metadata": {},
   "outputs": [],
   "source": [
    "# save the model\n",
    "import pickle\n",
    "with open('svm_sentiment_classifier','wb') as file:\n",
    "    pickle.dump(svm_clf,file)"
   ]
  },
  {
   "cell_type": "code",
   "execution_count": 62,
   "id": "a9f16ce2-91fa-410d-a110-27611d758d0a",
   "metadata": {},
   "outputs": [],
   "source": [
    "# load model and make prediction\n",
    "with open('svm_sentiment_classifier','rb') as file:\n",
    "    svm_model = pickle.load(file)"
   ]
  },
  {
   "cell_type": "code",
   "execution_count": 63,
   "id": "c046dbb1-7902-4f91-b285-f59af49f43ee",
   "metadata": {},
   "outputs": [
    {
     "name": "stdout",
     "output_type": "stream",
     "text": [
      "0.8291226458429031\n"
     ]
    }
   ],
   "source": [
    "result = svm_model.score(X_test,y_test)\n",
    "print(result)"
   ]
  },
  {
   "cell_type": "code",
   "execution_count": null,
   "id": "ac86e61d-32bb-4436-abc5-5a9f5a12070c",
   "metadata": {},
   "outputs": [],
   "source": []
  },
  {
   "cell_type": "markdown",
   "id": "be2931a3-079b-4f36-9a3a-1ac3454d0209",
   "metadata": {},
   "source": [
    "* Logistic Regression Classifier"
   ]
  },
  {
   "cell_type": "code",
   "execution_count": 64,
   "id": "c863555b-e649-4267-abfc-f93c73926280",
   "metadata": {},
   "outputs": [
    {
     "name": "stdout",
     "output_type": "stream",
     "text": [
      "Accuracy: 0.8087\n",
      "Precision: 0.8121\n",
      "Recall: 0.8087\n",
      "F1: 0.7380\n"
     ]
    }
   ],
   "source": [
    "lr_clf = LogisticRegression()\n",
    "# fit it to the vectorize training data\n",
    "lr_clf.fit(X_train_tfidf, y_train)\n",
    "\n",
    "# combine vectorization of train and test sets into one pipeline\n",
    "lr_clf = Pipeline([('tfidf', TfidfVectorizer(ngram_range=(1,2))),('lr_clf', LogisticRegression())])\n",
    "# fit the original train and test sets data\n",
    "lr_clf.fit(X_train, y_train)\n",
    "\n",
    "# test classifier and display result\n",
    "lr_pred = lr_clf.predict(X_test)\n",
    "\n",
    "# Evaluation Metrics\n",
    "# 'weighted' takes care of inbalance labels\n",
    "print('Accuracy: {:.4f}'.format(accuracy_score(y_test, lr_pred)))\n",
    "print('Precision: {:.4f}'.format(precision_score(y_test, lr_pred, average='weighted')))\n",
    "print('Recall: {:.4f}'.format(recall_score(y_test, lr_pred, average='weighted')))\n",
    "print('F1: {:.4f}'.format(f1_score(y_test, lr_pred, average='weighted')))"
   ]
  },
  {
   "cell_type": "code",
   "execution_count": 65,
   "id": "8bfc068e-380e-4cb0-8a16-6124619a2de7",
   "metadata": {},
   "outputs": [],
   "source": [
    "# save the model\n",
    "with open('lr_sentiment_classifier','wb') as file:\n",
    "    pickle.dump(lr_clf,file)"
   ]
  },
  {
   "cell_type": "code",
   "execution_count": null,
   "id": "e240ba4c-0548-4462-b37e-7483b54b0b94",
   "metadata": {},
   "outputs": [],
   "source": []
  },
  {
   "cell_type": "markdown",
   "id": "0cd8aa64-534d-41d0-ac99-8041de3f0e4c",
   "metadata": {},
   "source": [
    "* Multinomial Naive Bayes Classifier"
   ]
  },
  {
   "cell_type": "code",
   "execution_count": 66,
   "id": "4cbe8936-f1e4-4491-9b9b-9f9db0b17160",
   "metadata": {},
   "outputs": [
    {
     "name": "stdout",
     "output_type": "stream",
     "text": [
      "Accuracy: 0.7983\n",
      "Precision: 0.8390\n",
      "Recall: 0.7983\n",
      "F1: 0.7097\n"
     ]
    }
   ],
   "source": [
    "nb_clf = MultinomialNB()\n",
    "\n",
    "# fit it to the vectorize training data\n",
    "nb_clf.fit(X_train_tfidf, y_train)\n",
    "\n",
    "# combine vectorization of train and test sets into one pipeline\n",
    "nb_clf = Pipeline([('tfidf', TfidfVectorizer(ngram_range=(1,2))),('nb_clf', MultinomialNB())])\n",
    "# fit the original train and test sets data\n",
    "nb_clf.fit(X_train, y_train)\n",
    "\n",
    "# test classifier and display result\n",
    "nb_pred = nb_clf.predict(X_test)\n",
    "\n",
    "# Evaluation Metrics\n",
    "# 'weighted' takes care of inbalance labels\n",
    "print('Accuracy: {:.4f}'.format(accuracy_score(y_test, nb_pred)))\n",
    "print('Precision: {:.4f}'.format(precision_score(y_test, nb_pred, average='weighted')))\n",
    "print('Recall: {:.4f}'.format(recall_score(y_test, nb_pred, average='weighted')))\n",
    "print('F1: {:.4f}'.format(f1_score(y_test, nb_pred, average='weighted')))"
   ]
  },
  {
   "cell_type": "code",
   "execution_count": 67,
   "id": "8349de73-8f57-41b8-bd76-24db94bce346",
   "metadata": {},
   "outputs": [],
   "source": [
    "# save the model\n",
    "with open('nb_sentiment_classifier','wb') as file:\n",
    "    pickle.dump(nb_clf,file)"
   ]
  },
  {
   "cell_type": "code",
   "execution_count": null,
   "id": "0ae5ed0d-ea43-4023-8e3b-0329e4be2d2a",
   "metadata": {},
   "outputs": [],
   "source": []
  },
  {
   "cell_type": "markdown",
   "id": "64275384-d298-4f78-84fd-0bb0421ba91c",
   "metadata": {},
   "source": [
    "* Random Forest Classifier"
   ]
  },
  {
   "cell_type": "code",
   "execution_count": 68,
   "id": "f4e9f9da-7f34-40f9-b9c5-65fe1a2ac744",
   "metadata": {},
   "outputs": [
    {
     "name": "stdout",
     "output_type": "stream",
     "text": [
      "Accuracy: 0.8181\n",
      "Precision: 0.7964\n",
      "Recall: 0.8181\n",
      "F1: 0.7756\n"
     ]
    }
   ],
   "source": [
    "rf_clf = RandomForestClassifier(n_jobs=-1)\n",
    "\n",
    "# fit it to the vectorize training data\n",
    "rf_clf.fit(X_train_tfidf, y_train)\n",
    "\n",
    "# combine vectorization of train and test sets into one pipeline\n",
    "rf_clf = Pipeline([('tfidf', TfidfVectorizer()),('rf_clf', RandomForestClassifier(n_jobs=-1))])\n",
    "# fit the original train and test sets data\n",
    "rf_clf.fit(X_train, y_train)\n",
    "\n",
    "# test classifier and display result\n",
    "rf_pred = rf_clf.predict(X_test)\n",
    "\n",
    "# Evaluation Metrics\n",
    "# 'weighted' takes care of inbalance labels\n",
    "print('Accuracy: {:.4f}'.format(accuracy_score(y_test, rf_pred)))\n",
    "print('Precision: {:.4f}'.format(precision_score(y_test, rf_pred, average='weighted')))\n",
    "print('Recall: {:.4f}'.format(recall_score(y_test, rf_pred, average='weighted')))\n",
    "print('F1: {:.4f}'.format(f1_score(y_test, rf_pred, average='weighted')))"
   ]
  },
  {
   "cell_type": "code",
   "execution_count": 69,
   "id": "7af2be19-44f6-4cf5-b5f7-55f2f3357020",
   "metadata": {},
   "outputs": [],
   "source": [
    "# save the model\n",
    "with open('rf_sentiment_classifier','wb') as file:\n",
    "    pickle.dump(rf_clf,file)"
   ]
  },
  {
   "cell_type": "code",
   "execution_count": null,
   "id": "d232ce9c-77e8-4f6b-9837-86edd6345a9f",
   "metadata": {},
   "outputs": [],
   "source": []
  },
  {
   "cell_type": "code",
   "execution_count": null,
   "id": "a003d606-3df4-4204-adfa-c0e52353c7ae",
   "metadata": {},
   "outputs": [],
   "source": []
  },
  {
   "cell_type": "code",
   "execution_count": null,
   "id": "25fd2505-e0b8-4104-9e10-98ab6eb49ee4",
   "metadata": {},
   "outputs": [],
   "source": []
  },
  {
   "cell_type": "code",
   "execution_count": null,
   "id": "d5773fac-6a9a-40fc-8d55-b0940767940f",
   "metadata": {},
   "outputs": [],
   "source": []
  },
  {
   "cell_type": "code",
   "execution_count": null,
   "id": "436c82e4-9529-4cbd-a980-d274d2eca210",
   "metadata": {},
   "outputs": [],
   "source": []
  }
 ],
 "metadata": {
  "kernelspec": {
   "display_name": "Python 3 (ipykernel)",
   "language": "python",
   "name": "python3"
  },
  "language_info": {
   "codemirror_mode": {
    "name": "ipython",
    "version": 3
   },
   "file_extension": ".py",
   "mimetype": "text/x-python",
   "name": "python",
   "nbconvert_exporter": "python",
   "pygments_lexer": "ipython3",
   "version": "3.9.2"
  }
 },
 "nbformat": 4,
 "nbformat_minor": 5
}
