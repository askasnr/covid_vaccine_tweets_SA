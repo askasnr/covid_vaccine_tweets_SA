{
 "cells": [
  {
   "cell_type": "code",
   "execution_count": 81,
   "id": "9d46a327-3b1c-4adf-9406-eb56b71b95e7",
   "metadata": {},
   "outputs": [],
   "source": [
    "# necessary libraries\n",
    "import pandas as pd\n",
    "import numpy as np\n",
    "import seaborn as sns\n",
    "import matplotlib.pyplot as plt\n",
    "import neattext.functions as nfx\n",
    "import itertools\n",
    "import collections\n",
    "import nltk\n",
    "from nltk import bigrams, trigrams \n",
    "from nltk.corpus import stopwords\n",
    "stopwords = nltk.corpus.stopwords.words('english')\n",
    "\n",
    "# ML packages\n",
    "from sklearn.feature_extraction.text import TfidfVectorizer\n",
    "from sklearn.feature_extraction.text import CountVectorizer\n",
    "from sklearn.feature_extraction.text import TfidfTransformer\n",
    "from sklearn.model_selection import train_test_split\n",
    "from sklearn.naive_bayes import MultinomialNB\n",
    "from sklearn.linear_model import LogisticRegression\n",
    "from sklearn.svm import LinearSVC\n",
    "from sklearn.ensemble import RandomForestClassifier\n",
    "from sklearn.model_selection import GridSearchCV\n",
    "from sklearn.pipeline import Pipeline\n",
    "from sklearn.metrics import accuracy_score, classification_report, confusion_matrix\n",
    "from sklearn.metrics import precision_score\n",
    "from sklearn.metrics import f1_score, recall_score"
   ]
  },
  {
   "cell_type": "code",
   "execution_count": 82,
   "id": "3f83878e-23ab-47f1-88f2-6e677954911b",
   "metadata": {},
   "outputs": [],
   "source": [
    "# Load dataset\n",
    "df = pd.read_csv('data/covid_vaccine_tweets_data.csv', encoding='latin-1')"
   ]
  },
  {
   "cell_type": "code",
   "execution_count": 83,
   "id": "b1257e20-475c-4ebf-96ed-26f030f888ab",
   "metadata": {},
   "outputs": [
    {
     "data": {
      "text/plain": [
       "1    10519\n",
       "0     4720\n",
       "Name: label, dtype: int64"
      ]
     },
     "execution_count": 83,
     "metadata": {},
     "output_type": "execute_result"
    }
   ],
   "source": [
    "df['label'].value_counts()"
   ]
  },
  {
   "cell_type": "code",
   "execution_count": null,
   "id": "ddd5b1bd-2e56-4aeb-b20f-ad87301ff3d1",
   "metadata": {},
   "outputs": [],
   "source": []
  },
  {
   "cell_type": "markdown",
   "id": "e843722c-05ba-4a6c-be06-2c7251214ca5",
   "metadata": {},
   "source": [
    "#### Exploratory Data Analysis"
   ]
  },
  {
   "cell_type": "markdown",
   "id": "2b167786-4c57-49cf-a2aa-1ba207b2ed6c",
   "metadata": {},
   "source": [
    "* Word Count"
   ]
  },
  {
   "cell_type": "code",
   "execution_count": 84,
   "id": "52018cdc-9091-4698-a69e-29bdcb7894e8",
   "metadata": {},
   "outputs": [
    {
     "data": {
      "text/plain": [
       "Text(0.5, 1.0, 'Distribution Words in Tweets')"
      ]
     },
     "execution_count": 84,
     "metadata": {},
     "output_type": "execute_result"
    },
    {
     "data": {
      "image/png": "[encoded data removed]",
      "text/plain": [
       "<Figure size 576x288 with 1 Axes>"
      ]
     },
     "metadata": {
      "needs_background": "light"
     },
     "output_type": "display_data"
    }
   ],
   "source": [
    "df['word_counts'] = df['text'].apply(lambda x: len(str(x).split()))\n",
    "df['word_counts'].plot.hist(bins=28,figsize=(8,4))\n",
    "plt.xlabel('Word Counts')\n",
    "plt.ylabel('Frequency')\n",
    "plt.title('Distribution Words in Tweets')"
   ]
  },
  {
   "cell_type": "markdown",
   "id": "3ba14add-bd82-49ba-ba87-10eaf6823b2b",
   "metadata": {},
   "source": [
    "* Text Length"
   ]
  },
  {
   "cell_type": "code",
   "execution_count": 85,
   "id": "649f4882-77db-4c11-800f-6f137b229f4b",
   "metadata": {},
   "outputs": [
    {
     "data": {
      "text/plain": [
       "<AxesSubplot:title={'center':'Distribution Characters in Tweets'}, xlabel='Character Counts', ylabel='Frequency'>"
      ]
     },
     "execution_count": 85,
     "metadata": {},
     "output_type": "execute_result"
    },
    {
     "data": {
      "image/png": "[encoded data removed]",
      "text/plain": [
       "<Figure size 576x288 with 1 Axes>"
      ]
     },
     "metadata": {
      "needs_background": "light"
     },
     "output_type": "display_data"
    }
   ],
   "source": [
    "df['Tweets_length'] = df['text'].str.len()\n",
    "plt.figure(figsize=(8,5))\n",
    "plt.xlabel('Character Counts')\n",
    "plt.ylabel('Frequency')\n",
    "plt.title('Distribution Characters in Tweets')\n",
    "df['Tweets_length'].plot.hist(bins=30,figsize=(8,4))"
   ]
  },
  {
   "cell_type": "markdown",
   "id": "b02780fc-13bf-4a05-aa82-3ad713559f90",
   "metadata": {},
   "source": [
    "* N-Gram Representations"
   ]
  },
  {
   "cell_type": "code",
   "execution_count": 86,
   "id": "0d2d26e3-8ee3-483f-8810-f8b4d0cbf35c",
   "metadata": {},
   "outputs": [],
   "source": [
    "# Remove stopwords and some keywords\n",
    "stopwords.append('amp')\n",
    "#stopwords.append('people')\n",
    "#stopwords.append('minister')\n",
    "stopwords.append('https')\n",
    "#stopwords.append('dr')\n",
    "stopwords.append('coronavirus')\n",
    "stopwords.append('covid19vaccine')\n",
    "stopwords.append('covidvaccine')\n",
    "stopwords.append('covid19')\n",
    "stopwords.append('covid')\n",
    "stopwords.append('day')\n",
    "stopwords.append('today')\n",
    "stopwords.append('india')\n",
    "stopwords.append('say')\n",
    "stopwords.append('time')\n",
    "stopwords.append('president')\n",
    "stopwords.append('us')\n",
    "stopwords.append('got')"
   ]
  },
  {
   "cell_type": "code",
   "execution_count": 87,
   "id": "8b9d9989-a592-4bfc-ac96-2a8f4308109b",
   "metadata": {},
   "outputs": [
    {
     "data": {
      "text/html": [
       "<div>\n",
       "<style scoped>\n",
       "    .dataframe tbody tr th:only-of-type {\n",
       "        vertical-align: middle;\n",
       "    }\n",
       "\n",
       "    .dataframe tbody tr th {\n",
       "        vertical-align: top;\n",
       "    }\n",
       "\n",
       "    .dataframe thead th {\n",
       "        text-align: right;\n",
       "    }\n",
       "</style>\n",
       "<table border=\"1\" class=\"dataframe\">\n",
       "  <thead>\n",
       "    <tr style=\"text-align: right;\">\n",
       "      <th></th>\n",
       "      <th>unigram</th>\n",
       "      <th>count</th>\n",
       "      <th>bigram</th>\n",
       "      <th>count</th>\n",
       "      <th>trigram</th>\n",
       "      <th>count</th>\n",
       "    </tr>\n",
       "  </thead>\n",
       "  <tbody>\n",
       "    <tr>\n",
       "      <th>0</th>\n",
       "      <td>vaccine</td>\n",
       "      <td>4048</td>\n",
       "      <td>(first, dose)</td>\n",
       "      <td>243</td>\n",
       "      <td>(received, first, dose)</td>\n",
       "      <td>59</td>\n",
       "    </tr>\n",
       "    <tr>\n",
       "      <th>1</th>\n",
       "      <td>httpst</td>\n",
       "      <td>1877</td>\n",
       "      <td>(side, effects)</td>\n",
       "      <td>209</td>\n",
       "      <td>(first, dose, vaccine)</td>\n",
       "      <td>46</td>\n",
       "    </tr>\n",
       "    <tr>\n",
       "      <th>2</th>\n",
       "      <td>get</td>\n",
       "      <td>1205</td>\n",
       "      <td>(get, vaccine)</td>\n",
       "      <td>176</td>\n",
       "      <td>(vaccine, immunity, duration)</td>\n",
       "      <td>27</td>\n",
       "    </tr>\n",
       "    <tr>\n",
       "      <th>3</th>\n",
       "      <td>first</td>\n",
       "      <td>1124</td>\n",
       "      <td>(vaccination, drive)</td>\n",
       "      <td>138</td>\n",
       "      <td>(vaccine, side, effects)</td>\n",
       "      <td>26</td>\n",
       "    </tr>\n",
       "    <tr>\n",
       "      <th>4</th>\n",
       "      <td>vaccination</td>\n",
       "      <td>992</td>\n",
       "      <td>(second, dose)</td>\n",
       "      <td>135</td>\n",
       "      <td>(worlds, largest, vaccination)</td>\n",
       "      <td>22</td>\n",
       "    </tr>\n",
       "    <tr>\n",
       "      <th>5</th>\n",
       "      <td>vaccines</td>\n",
       "      <td>860</td>\n",
       "      <td>(moderna, vaccine)</td>\n",
       "      <td>133</td>\n",
       "      <td>(moderna, pfizer, vaccines)</td>\n",
       "      <td>22</td>\n",
       "    </tr>\n",
       "    <tr>\n",
       "      <th>6</th>\n",
       "      <td>people</td>\n",
       "      <td>774</td>\n",
       "      <td>(received, first)</td>\n",
       "      <td>117</td>\n",
       "      <td>(largest, vaccination, drive)</td>\n",
       "      <td>22</td>\n",
       "    </tr>\n",
       "    <tr>\n",
       "      <th>7</th>\n",
       "      <td>dose</td>\n",
       "      <td>734</td>\n",
       "      <td>(get, vaccinated)</td>\n",
       "      <td>110</td>\n",
       "      <td>(dose, moderna, vaccine)</td>\n",
       "      <td>21</td>\n",
       "    </tr>\n",
       "    <tr>\n",
       "      <th>8</th>\n",
       "      <td>health</td>\n",
       "      <td>691</td>\n",
       "      <td>(million, doses)</td>\n",
       "      <td>102</td>\n",
       "      <td>(first, consignment, covishield)</td>\n",
       "      <td>21</td>\n",
       "    </tr>\n",
       "    <tr>\n",
       "      <th>9</th>\n",
       "      <td>doses</td>\n",
       "      <td>620</td>\n",
       "      <td>(pfizer, vaccine)</td>\n",
       "      <td>98</td>\n",
       "      <td>(one, step, closer)</td>\n",
       "      <td>19</td>\n",
       "    </tr>\n",
       "    <tr>\n",
       "      <th>10</th>\n",
       "      <td>moderna</td>\n",
       "      <td>555</td>\n",
       "      <td>(2nd, dose)</td>\n",
       "      <td>97</td>\n",
       "      <td>(received, second, dose)</td>\n",
       "      <td>18</td>\n",
       "    </tr>\n",
       "    <tr>\n",
       "      <th>11</th>\n",
       "      <td>pfizer</td>\n",
       "      <td>528</td>\n",
       "      <td>(johnson, johnson)</td>\n",
       "      <td>97</td>\n",
       "      <td>(first, batch, vaccine)</td>\n",
       "      <td>18</td>\n",
       "    </tr>\n",
       "    <tr>\n",
       "      <th>12</th>\n",
       "      <td>vaccinated</td>\n",
       "      <td>523</td>\n",
       "      <td>(healthcare, workers)</td>\n",
       "      <td>93</td>\n",
       "      <td>(received, 2nd, dose)</td>\n",
       "      <td>17</td>\n",
       "    </tr>\n",
       "    <tr>\n",
       "      <th>13</th>\n",
       "      <td>getting</td>\n",
       "      <td>499</td>\n",
       "      <td>(dose, vaccine)</td>\n",
       "      <td>85</td>\n",
       "      <td>(health, care, workers)</td>\n",
       "      <td>17</td>\n",
       "    </tr>\n",
       "    <tr>\n",
       "      <th>14</th>\n",
       "      <td>one</td>\n",
       "      <td>478</td>\n",
       "      <td>(covishield, vaccine)</td>\n",
       "      <td>81</td>\n",
       "      <td>(virtual, town, hall)</td>\n",
       "      <td>17</td>\n",
       "    </tr>\n",
       "    <tr>\n",
       "      <th>15</th>\n",
       "      <td>received</td>\n",
       "      <td>470</td>\n",
       "      <td>(health, workers)</td>\n",
       "      <td>79</td>\n",
       "      <td>(johnson, johnson, pauses)</td>\n",
       "      <td>16</td>\n",
       "    </tr>\n",
       "    <tr>\n",
       "      <th>16</th>\n",
       "      <td>new</td>\n",
       "      <td>440</td>\n",
       "      <td>(getting, vaccine)</td>\n",
       "      <td>76</td>\n",
       "      <td>(first, dose, moderna)</td>\n",
       "      <td>14</td>\n",
       "    </tr>\n",
       "    <tr>\n",
       "      <th>17</th>\n",
       "      <td>dr</td>\n",
       "      <td>426</td>\n",
       "      <td>(vaccine, rollout)</td>\n",
       "      <td>66</td>\n",
       "      <td>(first, dose, pfizer)</td>\n",
       "      <td>14</td>\n",
       "    </tr>\n",
       "    <tr>\n",
       "      <th>18</th>\n",
       "      <td>astrazeneca</td>\n",
       "      <td>351</td>\n",
       "      <td>(astrazeneca, vaccine)</td>\n",
       "      <td>66</td>\n",
       "      <td>(dose, pfizer, vaccine)</td>\n",
       "      <td>14</td>\n",
       "    </tr>\n",
       "    <tr>\n",
       "      <th>19</th>\n",
       "      <td>news</td>\n",
       "      <td>350</td>\n",
       "      <td>(1st, dose)</td>\n",
       "      <td>64</td>\n",
       "      <td>(second, dose, vaccine)</td>\n",
       "      <td>14</td>\n",
       "    </tr>\n",
       "  </tbody>\n",
       "</table>\n",
       "</div>"
      ],
      "text/plain": [
       "        unigram  count                  bigram  count  \\\n",
       "0       vaccine   4048           (first, dose)    243   \n",
       "1        httpst   1877         (side, effects)    209   \n",
       "2           get   1205          (get, vaccine)    176   \n",
       "3         first   1124    (vaccination, drive)    138   \n",
       "4   vaccination    992          (second, dose)    135   \n",
       "5      vaccines    860      (moderna, vaccine)    133   \n",
       "6        people    774       (received, first)    117   \n",
       "7          dose    734       (get, vaccinated)    110   \n",
       "8        health    691        (million, doses)    102   \n",
       "9         doses    620       (pfizer, vaccine)     98   \n",
       "10      moderna    555             (2nd, dose)     97   \n",
       "11       pfizer    528      (johnson, johnson)     97   \n",
       "12   vaccinated    523   (healthcare, workers)     93   \n",
       "13      getting    499         (dose, vaccine)     85   \n",
       "14          one    478   (covishield, vaccine)     81   \n",
       "15     received    470       (health, workers)     79   \n",
       "16          new    440      (getting, vaccine)     76   \n",
       "17           dr    426      (vaccine, rollout)     66   \n",
       "18  astrazeneca    351  (astrazeneca, vaccine)     66   \n",
       "19         news    350             (1st, dose)     64   \n",
       "\n",
       "                             trigram  count  \n",
       "0            (received, first, dose)     59  \n",
       "1             (first, dose, vaccine)     46  \n",
       "2      (vaccine, immunity, duration)     27  \n",
       "3           (vaccine, side, effects)     26  \n",
       "4     (worlds, largest, vaccination)     22  \n",
       "5        (moderna, pfizer, vaccines)     22  \n",
       "6      (largest, vaccination, drive)     22  \n",
       "7           (dose, moderna, vaccine)     21  \n",
       "8   (first, consignment, covishield)     21  \n",
       "9                (one, step, closer)     19  \n",
       "10          (received, second, dose)     18  \n",
       "11           (first, batch, vaccine)     18  \n",
       "12             (received, 2nd, dose)     17  \n",
       "13           (health, care, workers)     17  \n",
       "14             (virtual, town, hall)     17  \n",
       "15        (johnson, johnson, pauses)     16  \n",
       "16            (first, dose, moderna)     14  \n",
       "17             (first, dose, pfizer)     14  \n",
       "18           (dose, pfizer, vaccine)     14  \n",
       "19           (second, dose, vaccine)     14  "
      ]
     },
     "execution_count": 87,
     "metadata": {},
     "output_type": "execute_result"
    }
   ],
   "source": [
    "words = [text.lower().split() for text in df['text']]\n",
    "\n",
    "# remove stopwords from all tweets \n",
    "text_nsw = [[w for w in tweet_words if not w in stopwords]\n",
    "                     for tweet_words in words]\n",
    "\n",
    "# flatten your list and create a counter to return the most commonly used words\n",
    "all_words_nsw = list(itertools.chain(*text_nsw))\n",
    "counts_nsw = collections.Counter(all_words_nsw)\n",
    "# dataframe for most common words\n",
    "unigram_df = pd.DataFrame(counts_nsw.most_common(20), columns=['unigram','count'])\n",
    "\n",
    "\n",
    "# Create list of lists containing bigrams in tweets\n",
    "terms_bigram = [list(bigrams(text)) for text in text_nsw]\n",
    "# Flatten list of bigrams in clean tweets\n",
    "bigrams = list(itertools.chain(*terms_bigram))\n",
    "# Create counter of words in clean bigrams\n",
    "bigram_counts = collections.Counter(bigrams)\n",
    "# create pandas dataframe\n",
    "bigram_df = pd.DataFrame(bigram_counts.most_common(20), columns=['bigram', 'count'])\n",
    "\n",
    "# Create list of lists containing trigrams in tweets\n",
    "terms_trigram = [list(trigrams(text)) for text in text_nsw]\n",
    "# Flatten list of trigrams in clean tweets\n",
    "trigrams = list(itertools.chain(*terms_trigram))\n",
    "# Create counter of words in clean trigrams\n",
    "trigram_counts = collections.Counter(trigrams)\n",
    "# create pandas dataframe\n",
    "trigram_df = pd.DataFrame(trigram_counts.most_common(20), columns=['trigram', 'count'])\n",
    "\n",
    "pd.concat([unigram_df,bigram_df,trigram_df], axis=1)"
   ]
  },
  {
   "cell_type": "markdown",
   "id": "458945f0-3fd9-4912-a0b0-fbf927d72fdb",
   "metadata": {},
   "source": [
    "#### Build Machine Learning Models"
   ]
  },
  {
   "cell_type": "markdown",
   "id": "977b035e-b1ad-4978-9ccc-e460fc36a95b",
   "metadata": {},
   "source": [
    "* Data Preprocessing"
   ]
  },
  {
   "cell_type": "code",
   "execution_count": 88,
   "id": "99d571ba-26e6-4b4d-bb53-bdd73d37fa9b",
   "metadata": {},
   "outputs": [],
   "source": [
    "# convert text to lowercase\n",
    "df = df.apply(lambda x: x.astype(str).str.lower())"
   ]
  },
  {
   "cell_type": "code",
   "execution_count": 89,
   "id": "0a5bb4e0-4568-4634-bb8c-ff39747521e0",
   "metadata": {},
   "outputs": [],
   "source": [
    "# remove stopwords and other irrelevant characters\n",
    "df['clean_text'] = df['text'].apply(nfx.remove_stopwords)\n",
    "df['clean_text'] = df['clean_text'].apply(nfx.remove_userhandles) \n",
    "df['clean_text'] = df['clean_text'].apply(nfx.remove_special_characters)\n",
    "df['clean_text'] = df['clean_text'].apply(nfx.remove_punctuations)\n",
    "df['clean_text'] = df['clean_text'].apply(nfx.remove_numbers)\n",
    "df['clean_text'] = df['clean_text'].apply(nfx.remove_hashtags)\n",
    "df['clean_text'] = df['clean_text'].apply(nfx.fix_contractions)"
   ]
  },
  {
   "cell_type": "markdown",
   "id": "b76547b1-ec78-46f9-99bd-b54dee828e37",
   "metadata": {},
   "source": [
    "* Features, Labels, Train Test Split, and Vectorization"
   ]
  },
  {
   "cell_type": "code",
   "execution_count": 90,
   "id": "42f26d2a-3615-41de-b7de-e4f9c6c7e3ba",
   "metadata": {},
   "outputs": [],
   "source": [
    "# Features and Labels\n",
    "X = df['clean_text']\n",
    "y = df['label']"
   ]
  },
  {
   "cell_type": "code",
   "execution_count": 91,
   "id": "3708cf46-55d4-43c7-943a-b524e207fa48",
   "metadata": {},
   "outputs": [],
   "source": [
    "# Train Test Split\n",
    "X_train, X_test, y_train, y_test = train_test_split(X, y, test_size=0.3, random_state=42, stratify=y)\n",
    "\n",
    "vectorizer = TfidfVectorizer(ngram_range=(1,2)) \n",
    "X_train_tfidf = vectorizer.fit_transform(X_train)"
   ]
  },
  {
   "cell_type": "markdown",
   "id": "ff4181f9-a127-4531-9237-14953bf0648c",
   "metadata": {},
   "source": [
    "* SVM Classifier"
   ]
  },
  {
   "cell_type": "code",
   "execution_count": 92,
   "id": "8d03fe9e-1636-4d2f-918d-7c9c249db911",
   "metadata": {},
   "outputs": [
    {
     "name": "stdout",
     "output_type": "stream",
     "text": [
      "Accuracy: 0.8432\n",
      "Precision: 0.8432\n",
      "Recall: 0.8432\n",
      "F1: 0.8350\n"
     ]
    }
   ],
   "source": [
    "svm_clf = LinearSVC()\n",
    "# fit it to the vectorize training data\n",
    "svm_clf.fit(X_train_tfidf, y_train)\n",
    "\n",
    "# combine vectorization of train and test sets into one pipeline\n",
    "svm_clf = Pipeline([('tfidf', TfidfVectorizer(ngram_range=(1,2))),('svm_clf', LinearSVC())])\n",
    "# fit the original train and test sets data\n",
    "svm_clf.fit(X_train, y_train)\n",
    "\n",
    "# test classifier and display result\n",
    "svm_pred = svm_clf.predict(X_test)\n",
    "\n",
    "# Evaluation Metrics\n",
    "# 'weighted' takes care of inbalance labels\n",
    "print('Accuracy: {:.4f}'.format(accuracy_score(y_test, svm_pred)))\n",
    "print('Precision: {:.4f}'.format(precision_score(y_test, svm_pred, average='weighted')))\n",
    "print('Recall: {:.4f}'.format(recall_score(y_test, svm_pred, average='weighted')))\n",
    "print('F1: {:.4f}'.format(f1_score(y_test, svm_pred, average='weighted')))"
   ]
  },
  {
   "cell_type": "code",
   "execution_count": 93,
   "id": "51e6f8bf-5b58-4113-b781-0b787405f417",
   "metadata": {},
   "outputs": [],
   "source": [
    "# save the model\n",
    "import pickle\n",
    "with open('svm_classifier','wb') as file:\n",
    "    pickle.dump(svm_clf,file)"
   ]
  },
  {
   "cell_type": "code",
   "execution_count": 94,
   "id": "4b17f55c-0b95-4c7f-a725-af2c25449f2d",
   "metadata": {},
   "outputs": [],
   "source": [
    "# load model and make prediction\n",
    "with open('svm_classifier','rb') as file:\n",
    "    svm_model = pickle.load(file)"
   ]
  },
  {
   "cell_type": "code",
   "execution_count": 95,
   "id": "c31d0c61-381d-4e07-bedb-079eca53e7d2",
   "metadata": {},
   "outputs": [
    {
     "name": "stdout",
     "output_type": "stream",
     "text": [
      "0.8431758530183727\n"
     ]
    }
   ],
   "source": [
    "result = svm_model.score(X_test,y_test)\n",
    "print(result)"
   ]
  },
  {
   "cell_type": "markdown",
   "id": "12f9225e-b685-404f-8e71-364461c23667",
   "metadata": {},
   "source": [
    "* Logistic Regression Classifier"
   ]
  },
  {
   "cell_type": "code",
   "execution_count": 96,
   "id": "77e28b3b-fadb-4181-b38b-8607b51ab6be",
   "metadata": {},
   "outputs": [
    {
     "name": "stdout",
     "output_type": "stream",
     "text": [
      "Accuracy: 0.8274\n",
      "Precision: 0.8504\n",
      "Recall: 0.8274\n",
      "F1: 0.8068\n"
     ]
    }
   ],
   "source": [
    "lr_clf = LogisticRegression()\n",
    "# fit it to the vectorize training data\n",
    "lr_clf.fit(X_train_tfidf, y_train)\n",
    "\n",
    "# combine vectorization of train and test sets into one pipeline\n",
    "lr_clf = Pipeline([('tfidf', TfidfVectorizer(ngram_range=(1,2))),('lr_clf', LogisticRegression())])\n",
    "# fit the original train and test sets data\n",
    "lr_clf.fit(X_train, y_train)\n",
    "\n",
    "# test classifier and display result\n",
    "lr_pred = lr_clf.predict(X_test)\n",
    "\n",
    "# Evaluation Metrics\n",
    "# 'weighted' takes care of inbalance labels\n",
    "print('Accuracy: {:.4f}'.format(accuracy_score(y_test, lr_pred)))\n",
    "print('Precision: {:.4f}'.format(precision_score(y_test, lr_pred, average='weighted')))\n",
    "print('Recall: {:.4f}'.format(recall_score(y_test, lr_pred, average='weighted')))\n",
    "print('F1: {:.4f}'.format(f1_score(y_test, lr_pred, average='weighted')))"
   ]
  },
  {
   "cell_type": "code",
   "execution_count": 97,
   "id": "91457336-1c9b-47b4-a030-dec52a5f28c3",
   "metadata": {},
   "outputs": [],
   "source": [
    "# save the model\n",
    "with open('lr_classifier','wb') as file:\n",
    "    pickle.dump(lr_clf,file)"
   ]
  },
  {
   "cell_type": "markdown",
   "id": "517dca29-a5e0-47fd-8948-cef6a6dcfc64",
   "metadata": {},
   "source": [
    "* Multinomial Naive Bayes Classifier"
   ]
  },
  {
   "cell_type": "code",
   "execution_count": 98,
   "id": "abc7864f-b923-46e1-a77b-905be95dc4b9",
   "metadata": {},
   "outputs": [
    {
     "name": "stdout",
     "output_type": "stream",
     "text": [
      "Accuracy: 0.7741\n",
      "Precision: 0.8283\n",
      "Recall: 0.7741\n",
      "F1: 0.7254\n"
     ]
    }
   ],
   "source": [
    "nb_clf = MultinomialNB()\n",
    "\n",
    "# fit it to the vectorize training data\n",
    "nb_clf.fit(X_train_tfidf, y_train)\n",
    "\n",
    "# combine vectorization of train and test sets into one pipeline\n",
    "nb_clf = Pipeline([('tfidf', TfidfVectorizer(ngram_range=(1,2))),('nb_clf', MultinomialNB())])\n",
    "# fit the original train and test sets data\n",
    "nb_clf.fit(X_train, y_train)\n",
    "\n",
    "# test classifier and display result\n",
    "nb_pred = nb_clf.predict(X_test)\n",
    "\n",
    "# Evaluation Metrics\n",
    "# 'weighted' takes care of inbalance labels\n",
    "print('Accuracy: {:.4f}'.format(accuracy_score(y_test, nb_pred)))\n",
    "print('Precision: {:.4f}'.format(precision_score(y_test, nb_pred, average='weighted')))\n",
    "print('Recall: {:.4f}'.format(recall_score(y_test, nb_pred, average='weighted')))\n",
    "print('F1: {:.4f}'.format(f1_score(y_test, nb_pred, average='weighted')))"
   ]
  },
  {
   "cell_type": "code",
   "execution_count": 99,
   "id": "b93e9e5e-1607-4fa7-8784-e03acc53d86f",
   "metadata": {},
   "outputs": [],
   "source": [
    "# save the model\n",
    "with open('nb_classifier','wb') as file:\n",
    "    pickle.dump(nb_clf,file)"
   ]
  },
  {
   "cell_type": "markdown",
   "id": "88527e1e-3d3b-4bc9-a269-ec4f9f26d12c",
   "metadata": {},
   "source": [
    "* Random Forest Classifier"
   ]
  },
  {
   "cell_type": "code",
   "execution_count": 100,
   "id": "870d64e9-0d00-4250-9b97-8953074f784b",
   "metadata": {},
   "outputs": [
    {
     "name": "stdout",
     "output_type": "stream",
     "text": [
      "Accuracy: 0.8318\n",
      "Precision: 0.8444\n",
      "Recall: 0.8318\n",
      "F1: 0.8156\n"
     ]
    }
   ],
   "source": [
    "rf_clf = RandomForestClassifier(n_jobs=-1)\n",
    "\n",
    "# fit it to the vectorize training data\n",
    "rf_clf.fit(X_train_tfidf, y_train)\n",
    "\n",
    "# combine vectorization of train and test sets into one pipeline\n",
    "rf_clf = Pipeline([('tfidf', TfidfVectorizer()),('rf_clf', RandomForestClassifier(n_jobs=-1))])\n",
    "# fit the original train and test sets data\n",
    "rf_clf.fit(X_train, y_train)\n",
    "\n",
    "# test classifier and display result\n",
    "rf_pred = rf_clf.predict(X_test)\n",
    "\n",
    "# Evaluation Metrics\n",
    "# 'weighted' takes care of inbalance labels\n",
    "print('Accuracy: {:.4f}'.format(accuracy_score(y_test, rf_pred)))\n",
    "print('Precision: {:.4f}'.format(precision_score(y_test, rf_pred, average='weighted')))\n",
    "print('Recall: {:.4f}'.format(recall_score(y_test, rf_pred, average='weighted')))\n",
    "print('F1: {:.4f}'.format(f1_score(y_test, rf_pred, average='weighted')))"
   ]
  },
  {
   "cell_type": "code",
   "execution_count": 101,
   "id": "388f0dbf-e698-4ee9-948c-0b53f2a6ed99",
   "metadata": {},
   "outputs": [],
   "source": [
    "# save the model\n",
    "with open('rf_classifier','wb') as file:\n",
    "    pickle.dump(rf_clf,file)"
   ]
  },
  {
   "cell_type": "code",
   "execution_count": null,
   "id": "736a7806-1a58-44f2-a56f-300fa2a1b470",
   "metadata": {},
   "outputs": [],
   "source": []
  },
  {
   "cell_type": "code",
   "execution_count": null,
   "id": "e65348d2-a291-4df5-abf3-cd14e1858767",
   "metadata": {},
   "outputs": [],
   "source": []
  }
 ],
 "metadata": {
  "kernelspec": {
   "display_name": "Python 3 (ipykernel)",
   "language": "python",
   "name": "python3"
  },
  "language_info": {
   "codemirror_mode": {
    "name": "ipython",
    "version": 3
   },
   "file_extension": ".py",
   "mimetype": "text/x-python",
   "name": "python",
   "nbconvert_exporter": "python",
   "pygments_lexer": "ipython3",
   "version": "3.9.2"
  }
 },
 "nbformat": 4,
 "nbformat_minor": 5
}
